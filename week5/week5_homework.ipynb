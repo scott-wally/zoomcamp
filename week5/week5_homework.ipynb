{
 "cells": [
  {
   "cell_type": "code",
   "execution_count": 1,
   "id": "1597bc48",
   "metadata": {},
   "outputs": [],
   "source": [
    "import findspark\n",
    "findspark.init()\n",
    "\n",
    "import pyspark\n",
    "from pyspark.sql import SparkSession\n",
    "\n",
    "spark = SparkSession.builder \\\n",
    "    .master(\"local[*]\") \\\n",
    "    .appName('test') \\\n",
    "    .getOrCreate()"
   ]
  },
  {
   "cell_type": "markdown",
   "id": "2b5dd394-b0cf-4290-b22e-a7cd46cc316d",
   "metadata": {},
   "source": [
    "## Question 1"
   ]
  },
  {
   "cell_type": "code",
   "execution_count": 2,
   "id": "6a8033a7-c4e3-4160-b93b-8cd396ea9a29",
   "metadata": {},
   "outputs": [
    {
     "data": {
      "text/plain": [
       "'3.3.2'"
      ]
     },
     "execution_count": 2,
     "metadata": {},
     "output_type": "execute_result"
    }
   ],
   "source": [
    "spark.version"
   ]
  },
  {
   "cell_type": "markdown",
   "id": "d678560c-4943-4a39-b19c-71f123632d93",
   "metadata": {},
   "source": [
    "Installed Spark version is 3.3.2."
   ]
  },
  {
   "cell_type": "markdown",
   "id": "ae9bae61-c88d-4b78-a807-5b1ef959fa0b",
   "metadata": {},
   "source": [
    "## Question 2"
   ]
  },
  {
   "cell_type": "code",
   "execution_count": 3,
   "id": "c408fee8-6260-4142-94cf-b4c2c8e57f70",
   "metadata": {},
   "outputs": [],
   "source": [
    "from pyspark.sql import types\n",
    "\n",
    "schema = types.StructType(\n",
    "    [\n",
    "        types.StructField('dispatching_base_num', types.StringType(), True),\n",
    "        types.StructField('pickup_datetime', types.TimestampType(), True),\n",
    "        types.StructField('dropoff_datetime', types.TimestampType(), True),\n",
    "        types.StructField('PULocationID', types.IntegerType(), True),\n",
    "        types.StructField('DOLocationID', types.IntegerType(), True),\n",
    "        types.StructField('SR_Flag', types.StringType(), True),\n",
    "        types.StructField('Affiliated_base_number', types.StringType(), True)\n",
    "    ]\n",
    ")"
   ]
  },
  {
   "cell_type": "code",
   "execution_count": 31,
   "id": "df19b7c5-fcee-4672-acd8-b07d7cece9f3",
   "metadata": {},
   "outputs": [
    {
     "name": "stdout",
     "output_type": "stream",
     "text": [
      "+--------------------+-------------------+-------------------+------------+------------+-------+----------------------+\n",
      "|dispatching_base_num|    pickup_datetime|   dropoff_datetime|PULocationID|DOLocationID|SR_Flag|Affiliated_base_number|\n",
      "+--------------------+-------------------+-------------------+------------+------------+-------+----------------------+\n",
      "|              B02764|2021-06-01 00:02:41|2021-06-01 00:07:46|         174|          18|      N|                B02764|\n",
      "|              B02764|2021-06-01 00:16:16|2021-06-01 00:21:14|          32|         254|      N|                B02764|\n",
      "|              B02764|2021-06-01 00:27:01|2021-06-01 00:42:11|         240|         127|      N|                B02764|\n",
      "|              B02764|2021-06-01 00:46:08|2021-06-01 00:53:45|         127|         235|      N|                B02764|\n",
      "|              B02510|2021-06-01 00:45:42|2021-06-01 01:03:33|         144|         146|      N|                  null|\n",
      "|              B02510|2021-06-01 00:18:15|2021-06-01 00:25:47|          49|          17|      N|                  null|\n",
      "|              B02510|2021-06-01 00:33:06|2021-06-01 00:42:46|          49|         225|      N|                  null|\n",
      "|              B02510|2021-06-01 00:46:27|2021-06-01 00:56:50|         225|         177|      N|                  null|\n",
      "|              B02764|2021-06-01 00:48:06|2021-06-01 01:04:10|         209|          45|      N|                B02764|\n",
      "|              B02875|2021-06-01 00:18:54|2021-06-01 00:26:14|          80|         256|      N|                B02875|\n",
      "|              B02875|2021-06-01 00:31:02|2021-06-01 00:36:39|         217|          17|      N|                B02875|\n",
      "|              B02875|2021-06-01 00:41:53|2021-06-01 01:07:32|          17|         265|      N|                B02875|\n",
      "|              B02875|2021-06-01 00:29:52|2021-06-01 00:54:41|         210|          76|      N|                B02875|\n",
      "|              B02510|2021-06-01 00:15:57|2021-06-01 00:39:36|         226|         213|      N|                  null|\n",
      "|              B02510|2021-06-01 00:11:59|2021-06-01 00:23:32|         191|           9|      N|                  null|\n",
      "|              B02510|2021-06-01 00:30:35|2021-06-01 00:45:35|          16|         250|      N|                  null|\n",
      "|              B02510|2021-06-01 00:49:01|2021-06-01 01:03:50|         182|         259|      N|                  null|\n",
      "|              B02510|2021-06-01 00:07:36|2021-06-01 00:21:13|         188|          72|      N|                  null|\n",
      "|              B02510|2021-06-01 00:25:48|2021-06-01 00:40:43|          39|          72|      N|                  null|\n",
      "|              B02510|2021-06-01 00:46:11|2021-06-01 00:53:39|          72|          35|      N|                  null|\n",
      "+--------------------+-------------------+-------------------+------------+------------+-------+----------------------+\n",
      "only showing top 20 rows\n",
      "\n"
     ]
    }
   ],
   "source": [
    "df = spark.read \\\n",
    "    .option(\"header\", \"true\") \\\n",
    "    .schema(schema) \\\n",
    "    .csv('fhvhv_tripdata_2021-06.csv.gz')\n",
    "\n",
    "df.show()"
   ]
  },
  {
   "cell_type": "code",
   "execution_count": 5,
   "id": "7ccbbdf9-36a8-4206-8155-8d5b9237656a",
   "metadata": {},
   "outputs": [],
   "source": [
    "df = df.repartition(12)"
   ]
  },
  {
   "cell_type": "code",
   "execution_count": 6,
   "id": "1821cae3-ead5-41bc-b1c4-002ccf3805e9",
   "metadata": {},
   "outputs": [],
   "source": [
    "df.write.parquet('fhvhv/2021/06/', mode='overwrite')"
   ]
  },
  {
   "cell_type": "markdown",
   "id": "24d0134b-abca-4b64-b222-555e307dcf4d",
   "metadata": {},
   "source": [
    "Files are approximately 24,200 KB, or ~24 MB."
   ]
  },
  {
   "cell_type": "markdown",
   "id": "a3174625-a066-4441-84dc-a1da8a68a583",
   "metadata": {},
   "source": [
    "## Question 3"
   ]
  },
  {
   "cell_type": "code",
   "execution_count": 8,
   "id": "6d94b401-dc3f-4e00-b932-a24df142b413",
   "metadata": {},
   "outputs": [],
   "source": [
    "df.registerTempTable('fhv_june')"
   ]
  },
  {
   "cell_type": "code",
   "execution_count": 16,
   "id": "d486da33-3273-4478-a2ad-f264df0cfd30",
   "metadata": {},
   "outputs": [
    {
     "name": "stdout",
     "output_type": "stream",
     "text": [
      "+-------------------+--------+\n",
      "|                day|count(1)|\n",
      "+-------------------+--------+\n",
      "|2021-06-01 00:00:00|  417375|\n",
      "|2021-06-02 00:00:00|  457339|\n",
      "|2021-06-03 00:00:00|  521408|\n",
      "|2021-06-04 00:00:00|  538917|\n",
      "|2021-06-05 00:00:00|  604903|\n",
      "|2021-06-06 00:00:00|  522753|\n",
      "|2021-06-07 00:00:00|  425771|\n",
      "|2021-06-08 00:00:00|  462554|\n",
      "|2021-06-09 00:00:00|  483353|\n",
      "|2021-06-10 00:00:00|  504108|\n",
      "|2021-06-11 00:00:00|  549286|\n",
      "|2021-06-12 00:00:00|  591339|\n",
      "|2021-06-13 00:00:00|  509039|\n",
      "|2021-06-14 00:00:00|  426672|\n",
      "|2021-06-15 00:00:00|  452470|\n",
      "|2021-06-16 00:00:00|  479776|\n",
      "|2021-06-17 00:00:00|  497133|\n",
      "|2021-06-18 00:00:00|  540056|\n",
      "|2021-06-19 00:00:00|  601189|\n",
      "|2021-06-20 00:00:00|  491630|\n",
      "+-------------------+--------+\n",
      "only showing top 20 rows\n",
      "\n"
     ]
    }
   ],
   "source": [
    "df_result = spark.sql(\"\"\"\n",
    "SELECT\n",
    "    date_trunc('day', pickup_datetime) AS day,\n",
    "    count(1)\n",
    "FROM\n",
    "    fhv_june\n",
    "GROUP BY\n",
    "    1\n",
    "ORDER BY\n",
    "    1\n",
    "\"\"\").show()"
   ]
  },
  {
   "cell_type": "markdown",
   "id": "e12f05df-9374-4994-9373-0e0921df9811",
   "metadata": {},
   "source": [
    "452,470 trips on June 15."
   ]
  },
  {
   "cell_type": "markdown",
   "id": "b55b96ad-76c1-474e-84a4-7fd2d6124eb0",
   "metadata": {},
   "source": [
    "## Question 4"
   ]
  },
  {
   "cell_type": "code",
   "execution_count": 25,
   "id": "9d223bfa-bb79-4a23-9597-f03418cab649",
   "metadata": {},
   "outputs": [
    {
     "name": "stdout",
     "output_type": "stream",
     "text": [
      "+--------------------+\n",
      "|            duration|\n",
      "+--------------------+\n",
      "|INTERVAL '2 18:52...|\n",
      "|INTERVAL '1 01:32...|\n",
      "|INTERVAL '0 19:58...|\n",
      "|INTERVAL '0 18:11...|\n",
      "|INTERVAL '0 16:28...|\n",
      "|INTERVAL '0 14:16...|\n",
      "|INTERVAL '0 13:54...|\n",
      "|INTERVAL '0 11:40...|\n",
      "|INTERVAL '0 11:21...|\n",
      "|INTERVAL '0 10:59...|\n",
      "|INTERVAL '0 10:16...|\n",
      "|INTERVAL '0 09:57...|\n",
      "|INTERVAL '0 09:57...|\n",
      "|INTERVAL '0 09:38...|\n",
      "|INTERVAL '0 09:37...|\n",
      "|INTERVAL '0 09:28...|\n",
      "|INTERVAL '0 09:28...|\n",
      "|INTERVAL '0 09:24...|\n",
      "|INTERVAL '0 09:23...|\n",
      "|INTERVAL '0 09:22...|\n",
      "+--------------------+\n",
      "only showing top 20 rows\n",
      "\n"
     ]
    }
   ],
   "source": [
    "df_result = spark.sql(\"\"\"\n",
    "SELECT\n",
    "    dropoff_datetime - pickup_datetime AS duration\n",
    "FROM\n",
    "    fhv_june\n",
    "ORDER BY\n",
    "    1 DESC\n",
    "\"\"\").show()"
   ]
  },
  {
   "cell_type": "code",
   "execution_count": 21,
   "id": "afc0c205-5c3a-4347-bbf1-82bc13b2ab46",
   "metadata": {},
   "outputs": [
    {
     "name": "stdout",
     "output_type": "stream",
     "text": [
      "The longest trip was 66.87 hours.\n"
     ]
    }
   ],
   "source": [
    "longest_hours = round(2*24 + 18 + 52/60,2)\n",
    "print('The longest trip was {} hours.'.format(longest_hours))"
   ]
  },
  {
   "cell_type": "markdown",
   "id": "eccc4ae3-e8bf-4be1-8ddd-520dcabd346d",
   "metadata": {},
   "source": [
    "## Question 5"
   ]
  },
  {
   "cell_type": "markdown",
   "id": "06c25260-10e8-4a3d-9bc9-fd1ecfcfb9dd",
   "metadata": {},
   "source": [
    "The Spark User Interface runs on local port 4040."
   ]
  },
  {
   "cell_type": "markdown",
   "id": "a83e780d-010a-48c7-b1b8-fa49d9dae1c3",
   "metadata": {},
   "source": [
    "## Question 6"
   ]
  },
  {
   "cell_type": "code",
   "execution_count": 29,
   "id": "14ddc7df-10b6-47c6-acb2-3e3b275b60a2",
   "metadata": {},
   "outputs": [
    {
     "name": "stdout",
     "output_type": "stream",
     "text": [
      "+----------+-------------+--------------------+------------+\n",
      "|LocationID|      Borough|                Zone|service_zone|\n",
      "+----------+-------------+--------------------+------------+\n",
      "|         1|          EWR|      Newark Airport|         EWR|\n",
      "|         2|       Queens|         Jamaica Bay|   Boro Zone|\n",
      "|         3|        Bronx|Allerton/Pelham G...|   Boro Zone|\n",
      "|         4|    Manhattan|       Alphabet City| Yellow Zone|\n",
      "|         5|Staten Island|       Arden Heights|   Boro Zone|\n",
      "|         6|Staten Island|Arrochar/Fort Wad...|   Boro Zone|\n",
      "|         7|       Queens|             Astoria|   Boro Zone|\n",
      "|         8|       Queens|        Astoria Park|   Boro Zone|\n",
      "|         9|       Queens|          Auburndale|   Boro Zone|\n",
      "|        10|       Queens|        Baisley Park|   Boro Zone|\n",
      "|        11|     Brooklyn|          Bath Beach|   Boro Zone|\n",
      "|        12|    Manhattan|        Battery Park| Yellow Zone|\n",
      "|        13|    Manhattan|   Battery Park City| Yellow Zone|\n",
      "|        14|     Brooklyn|           Bay Ridge|   Boro Zone|\n",
      "|        15|       Queens|Bay Terrace/Fort ...|   Boro Zone|\n",
      "|        16|       Queens|             Bayside|   Boro Zone|\n",
      "|        17|     Brooklyn|             Bedford|   Boro Zone|\n",
      "|        18|        Bronx|        Bedford Park|   Boro Zone|\n",
      "|        19|       Queens|           Bellerose|   Boro Zone|\n",
      "|        20|        Bronx|             Belmont|   Boro Zone|\n",
      "+----------+-------------+--------------------+------------+\n",
      "only showing top 20 rows\n",
      "\n"
     ]
    }
   ],
   "source": [
    "df_zone = spark.read \\\n",
    "    .option(\"header\", \"true\") \\\n",
    "    .csv('taxi+_zone_lookup.csv')\n",
    "\n",
    "df_zone.show()"
   ]
  },
  {
   "cell_type": "code",
   "execution_count": 35,
   "id": "0c914889-1f24-40ed-a6f6-fdd1861c9b75",
   "metadata": {},
   "outputs": [
    {
     "data": {
      "text/plain": [
       "StructType([StructField('LocationID', IntegerType(), True), StructField('Borough', StringType(), True), StructField('Zone', StringType(), True), StructField('service_zone', StringType(), True)])"
      ]
     },
     "execution_count": 35,
     "metadata": {},
     "output_type": "execute_result"
    }
   ],
   "source": [
    "df_zone = df_zone.withColumn(\"LocationID\", df_zone.LocationID.cast(types.IntegerType()))\n",
    "\n",
    "df_zone.schema"
   ]
  },
  {
   "cell_type": "code",
   "execution_count": 37,
   "id": "e8b8087e-e473-49ff-9db4-d8163e03c7f9",
   "metadata": {},
   "outputs": [
    {
     "name": "stdout",
     "output_type": "stream",
     "text": [
      "+------------+------+\n",
      "|PULocationID| count|\n",
      "+------------+------+\n",
      "|          61|231279|\n",
      "|          79|221244|\n",
      "|         132|188867|\n",
      "|          37|187929|\n",
      "|          76|186780|\n",
      "|         231|164344|\n",
      "|         138|161596|\n",
      "|         234|158937|\n",
      "|         249|154698|\n",
      "|           7|152493|\n",
      "|         148|151020|\n",
      "|          68|147673|\n",
      "|          42|146402|\n",
      "|         255|143683|\n",
      "|         181|143594|\n",
      "|         225|141427|\n",
      "|          48|139611|\n",
      "|         246|139431|\n",
      "|          17|138428|\n",
      "|         170|137879|\n",
      "+------------+------+\n",
      "only showing top 20 rows\n",
      "\n"
     ]
    }
   ],
   "source": [
    "df_result = spark.sql(\"\"\"\n",
    "SELECT\n",
    "    PULocationID,\n",
    "    count(1) AS count\n",
    "FROM\n",
    "    fhv_june\n",
    "GROUP BY\n",
    "    1\n",
    "ORDER BY\n",
    "    2 DESC\n",
    "\"\"\").show()"
   ]
  },
  {
   "cell_type": "markdown",
   "id": "1ad0150f-59e8-49dc-85ec-1e6ab02d9b1a",
   "metadata": {},
   "source": [
    "Location ID 61 is the most frequent pickup location. Per the lookup table, this equates to Zone 'Crown Heights North'. However, it is possible that a Zone has more than 1 LocationIDs within it. Therefore, we should join the tables and group by zone to get accurate counts."
   ]
  },
  {
   "cell_type": "code",
   "execution_count": 43,
   "id": "970917d8-3682-478c-873b-dac693f1f48b",
   "metadata": {},
   "outputs": [],
   "source": [
    "df_join = df.join(df_zone, df.PULocationID == df_zone.LocationID)"
   ]
  },
  {
   "cell_type": "code",
   "execution_count": 44,
   "id": "8efa826f-9b2c-4cc5-8253-417364c0da25",
   "metadata": {},
   "outputs": [],
   "source": [
    "df_join.write.parquet('fhvhv/2021/06/zone/', mode='overwrite')"
   ]
  },
  {
   "cell_type": "code",
   "execution_count": 45,
   "id": "5fa51bb4-818d-4fc9-a31f-bb822ccb4fbf",
   "metadata": {},
   "outputs": [
    {
     "name": "stderr",
     "output_type": "stream",
     "text": [
      "C:\\Users\\wallyhead\\miniforge3\\envs\\zoomcamp\\Lib\\site-packages\\pyspark\\sql\\dataframe.py:229: FutureWarning: Deprecated in 2.0, use createOrReplaceTempView instead.\n",
      "  warnings.warn(\"Deprecated in 2.0, use createOrReplaceTempView instead.\", FutureWarning)\n"
     ]
    }
   ],
   "source": [
    "df_join.registerTempTable('fhv_june_zone')"
   ]
  },
  {
   "cell_type": "code",
   "execution_count": 46,
   "id": "7a83ab06-202a-4e32-bb11-35a66ef75c48",
   "metadata": {},
   "outputs": [
    {
     "name": "stdout",
     "output_type": "stream",
     "text": [
      "+--------------------+------+\n",
      "|                Zone| count|\n",
      "+--------------------+------+\n",
      "| Crown Heights North|231279|\n",
      "|        East Village|221244|\n",
      "|         JFK Airport|188867|\n",
      "|      Bushwick South|187929|\n",
      "|       East New York|186780|\n",
      "|TriBeCa/Civic Center|164344|\n",
      "|   LaGuardia Airport|161596|\n",
      "|            Union Sq|158937|\n",
      "|        West Village|154698|\n",
      "|             Astoria|152493|\n",
      "|     Lower East Side|151020|\n",
      "|        East Chelsea|147673|\n",
      "|Central Harlem North|146402|\n",
      "|Williamsburg (Nor...|143683|\n",
      "|          Park Slope|143594|\n",
      "|  Stuyvesant Heights|141427|\n",
      "|        Clinton East|139611|\n",
      "|West Chelsea/Huds...|139431|\n",
      "|             Bedford|138428|\n",
      "|         Murray Hill|137879|\n",
      "+--------------------+------+\n",
      "only showing top 20 rows\n",
      "\n"
     ]
    }
   ],
   "source": [
    "df_result = spark.sql(\"\"\"\n",
    "SELECT\n",
    "    Zone,\n",
    "    count(1) AS count\n",
    "FROM\n",
    "    fhv_june_zone\n",
    "GROUP BY\n",
    "    1\n",
    "ORDER BY\n",
    "    2 DESC\n",
    "\"\"\").show()"
   ]
  },
  {
   "cell_type": "markdown",
   "id": "cfc5a08a-6d49-4b1c-bf4b-b8ada1e0908b",
   "metadata": {},
   "source": [
    "This confirms Crown Heights North as most frequent pickup location zone."
   ]
  },
  {
   "cell_type": "code",
   "execution_count": null,
   "id": "eb8bab57-3ba6-43dd-829f-56debc2466f8",
   "metadata": {},
   "outputs": [],
   "source": []
  }
 ],
 "metadata": {
  "kernelspec": {
   "display_name": "Python 3 (ipykernel)",
   "language": "python",
   "name": "python3"
  },
  "language_info": {
   "codemirror_mode": {
    "name": "ipython",
    "version": 3
   },
   "file_extension": ".py",
   "mimetype": "text/x-python",
   "name": "python",
   "nbconvert_exporter": "python",
   "pygments_lexer": "ipython3",
   "version": "3.11.0"
  }
 },
 "nbformat": 4,
 "nbformat_minor": 5
}
